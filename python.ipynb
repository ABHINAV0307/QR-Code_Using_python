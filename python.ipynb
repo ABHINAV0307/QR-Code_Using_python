{
 "cells": [
  {
   "cell_type": "code",
   "execution_count": null,
   "metadata": {},
   "outputs": [],
   "source": [
    "import qrcode\n",
    "from tkinter import *\n",
    "from tkinter import messagebox\n",
    "\n",
    "wn = Tk()\n",
    "wn.title('DataFlair QR Code Generator')\n",
    "wn.geometry('700x700')\n",
    "wn.config(bg='black')\n",
    "\n",
    "\n",
    "def generateCode():\n",
    "    qr = qrcode.QRCode(version = size.get(),\n",
    "                   box_size = 10,\n",
    "                   border = 5) \n",
    "    qr.add_data(text.get()) \n",
    "    qr.make(fit = True) \n",
    "    img = qr.make_image() \n",
    "    fileDirec=loc.get()+'\\\\'+name.get() \n",
    "    img.save(f'{fileDirec}.png') \n",
    "    messagebox.showinfo(\"DataFlair QR Code Generator\",\"QR Code is saved successfully!\")\n",
    "    \n",
    "headingFrame = Frame(wn,bg=\"black\",bd=5)\n",
    "headingFrame.place(relx=0.10,rely=0.05,relwidth=0.7,relheight=0.1)\n",
    "headingLabel = Label(headingFrame, text=\"Generate QR Code with DataFlair\", bg='azure', font=('Times',20,'bold'))\n",
    "headingLabel.place(relx=0,rely=0, relwidth=1, relheight=1)\n",
    "\n",
    "Frame1 = Frame(wn,bg=\"black\")\n",
    "Frame1.place(relx=0.1,rely=0.15,relwidth=0.7,relheight=0.3)\n",
    "    \n",
    "lable1 = Label(Frame1,text=\"Enter the text/URL: \",bg=\"black\",fg='azure',font=('Courier',13,'bold'))\n",
    "lable1.place(relx=0.05,rely=0.2, relheight=0.08)\n",
    "\n",
    "text = Entry(Frame1,font=('Century 12'))\n",
    "text.place(relx=0.05,rely=0.4, relwidth=1, relheight=0.2)\n",
    "\n",
    "Frame2 = Frame(wn,bg=\"black\")\n",
    "Frame2.place(relx=0.1,rely=0.35,relwidth=0.7,relheight=0.3)\n",
    "\n",
    "lable2 = Label(Frame2,text=\"Enter the location to save the QR Code: \",bg=\"black\",fg='azure',font=('Courier',13,'bold'))\n",
    "lable2.place(relx=0.05,rely=0.2, relheight=0.08)\n",
    "\n",
    "loc = Entry(Frame2,font=('Century 12'))\n",
    "loc.place(relx=0.05,rely=0.4, relwidth=1, relheight=0.2)\n",
    "\n",
    "Frame3 = Frame(wn,bg=\"black\")\n",
    "Frame3.place(relx=0.1,rely=0.55,relwidth=0.7,relheight=0.3)\n",
    "\n",
    "lable3 = Label(Frame3,text=\"Enter the name of the QR Code: \",bg=\"black\",fg='azure',font=('Courier',13,'bold'))\n",
    "lable3.place(relx=0.05,rely=0.2, relheight=0.08)\n",
    "\n",
    "name = Entry(Frame3,font=('Century 12'))\n",
    "name.place(relx=0.05,rely=0.4, relwidth=1, relheight=0.2)\n",
    "\n",
    "Frame4 = Frame(wn,bg=\"black\")\n",
    "Frame4.place(relx=0.1,rely=0.75,relwidth=0.7,relheight=0.2)\n",
    "\n",
    "lable4 = Label(Frame4,text=\"Enter the size from 1 to 40 with 1 being 21x21: \",bg=\"black\",fg='azure',font=('Courier',13,'bold'))\n",
    "lable4.place(relx=0.05,rely=0.2, relheight=0.08)\n",
    "\n",
    "size = Entry(Frame4,font=('Century 12'))\n",
    "size.place(relx=0.05,rely=0.4, relwidth=0.5, relheight=0.2)\n",
    "button = Button(wn, text='Generate Code',font=('Courier',15,'normal'),command=generateCode)\n",
    "button.place(relx=0.35,rely=0.9, relwidth=0.25, relheight=0.05)\n",
    "wn.mainloop()"
   ]
  },
  {
   "cell_type": "code",
   "execution_count": null,
   "metadata": {},
   "outputs": [],
   "source": []
  }
 ],
 "metadata": {
  "kernelspec": {
   "display_name": "Python 3.7.0 ('rec1')",
   "language": "python",
   "name": "python3"
  },
  "language_info": {
   "codemirror_mode": {
    "name": "ipython",
    "version": 3
   },
   "file_extension": ".py",
   "mimetype": "text/x-python",
   "name": "python",
   "nbconvert_exporter": "python",
   "pygments_lexer": "ipython3",
   "version": "3.7.0"
  },
  "orig_nbformat": 4,
  "vscode": {
   "interpreter": {
    "hash": "295f7ad9d8b6a574265e7ef2adc192f7851806130edd42137e75a49514fdb49c"
   }
  }
 },
 "nbformat": 4,
 "nbformat_minor": 2
}
